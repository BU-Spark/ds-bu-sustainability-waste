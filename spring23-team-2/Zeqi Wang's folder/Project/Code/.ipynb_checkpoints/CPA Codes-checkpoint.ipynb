{
 "cells": [
  {
   "cell_type": "markdown",
   "id": "44d605b9",
   "metadata": {},
   "source": [
    "Adding device geo loaction based on its address"
   ]
  },
  {
   "cell_type": "code",
   "execution_count": 2,
   "id": "6f2001a5",
   "metadata": {},
   "outputs": [
    {
     "name": "stdout",
     "output_type": "stream",
     "text": [
      "Collecting geopy\n",
      "  Downloading geopy-2.3.0-py3-none-any.whl (119 kB)\n",
      "\u001b[K     |████████████████████████████████| 119 kB 3.2 MB/s eta 0:00:01\n",
      "\u001b[?25hCollecting geographiclib<3,>=1.52\n",
      "  Downloading geographiclib-2.0-py3-none-any.whl (40 kB)\n",
      "\u001b[K     |████████████████████████████████| 40 kB 1.2 MB/s eta 0:00:01\n",
      "\u001b[?25hInstalling collected packages: geographiclib, geopy\n",
      "Successfully installed geographiclib-2.0 geopy-2.3.0\n",
      "Note: you may need to restart the kernel to use updated packages.\n"
     ]
    }
   ],
   "source": [
    "pip install geopy"
   ]
  },
  {
   "cell_type": "code",
   "execution_count": 4,
   "id": "72c793a5",
   "metadata": {},
   "outputs": [],
   "source": [
    "path = '/Users/zeqi/Desktop/cs506.nosync/Project/Data/Processed/Serial match Device number.csv'"
   ]
  },
  {
   "cell_type": "code",
   "execution_count": null,
   "id": "34401a52",
   "metadata": {},
   "outputs": [],
   "source": [
    "import pandas as pd\n",
    "from geopy.geocoders import Nominatim\n",
    "\n",
    "# Load the CSV file into a pandas DataFrame\n",
    "df = pd.read_csv(path)\n",
    "\n",
    "# Create a geolocator object using Nominatim\n",
    "geolocator = Nominatim(user_agent='https://cs-people.bu.edu/zw100107',timeout=10)\n",
    "\n",
    "# Define a function to get the latitude and longitude of an address\n",
    "def get_coordinates(address):\n",
    "    location = geolocator.geocode(address)\n",
    "    if location:\n",
    "        return (location.latitude, location.longitude)\n",
    "    else:\n",
    "        return (None, None)\n",
    "\n",
    "# Apply the function to each row in the DataFrame to get the coordinates\n",
    "df['Latitude'], df['Longitude'] = zip(*df['Address'].apply(get_coordinates))\n",
    "\n",
    "# Save the updated DataFrame to a new CSV file\n",
    "df.to_csv('Device Geo Locations.csv', index=False)\n"
   ]
  },
  {
   "cell_type": "code",
   "execution_count": null,
   "id": "8e50ca02",
   "metadata": {},
   "outputs": [],
   "source": []
  }
 ],
 "metadata": {
  "kernelspec": {
   "display_name": "Python 3 (ipykernel)",
   "language": "python",
   "name": "python3"
  },
  "language_info": {
   "codemirror_mode": {
    "name": "ipython",
    "version": 3
   },
   "file_extension": ".py",
   "mimetype": "text/x-python",
   "name": "python",
   "nbconvert_exporter": "python",
   "pygments_lexer": "ipython3",
   "version": "3.8.12"
  }
 },
 "nbformat": 4,
 "nbformat_minor": 5
}
